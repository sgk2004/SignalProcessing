{
 "cells": [
  {
   "cell_type": "code",
   "execution_count": null,
   "metadata": {},
   "outputs": [],
   "source": [
    "import numpy as np\n",
    "import matplotlib.pyplot as plt"
   ]
  },
  {
   "cell_type": "markdown",
   "metadata": {},
   "source": [
    "# Peak Detection"
   ]
  },
  {
   "cell_type": "code",
   "execution_count": 15,
   "metadata": {},
   "outputs": [],
   "source": [
    "from scipy.signal import find_peaks"
   ]
  },
  {
   "cell_type": "code",
   "execution_count": 21,
   "metadata": {},
   "outputs": [],
   "source": [
    "#  defining the x and y arrays\n",
    "x= np.linspace(0,10,100)\n",
    "y = x*np.random.randn(100)**2"
   ]
  },
  {
   "cell_type": "code",
   "execution_count": 17,
   "metadata": {},
   "outputs": [
    {
     "data": {
      "text/plain": [
       "array([ 0.        ,  0.1010101 ,  0.2020202 ,  0.3030303 ,  0.4040404 ,\n",
       "        0.50505051,  0.60606061,  0.70707071,  0.80808081,  0.90909091,\n",
       "        1.01010101,  1.11111111,  1.21212121,  1.31313131,  1.41414141,\n",
       "        1.51515152,  1.61616162,  1.71717172,  1.81818182,  1.91919192,\n",
       "        2.02020202,  2.12121212,  2.22222222,  2.32323232,  2.42424242,\n",
       "        2.52525253,  2.62626263,  2.72727273,  2.82828283,  2.92929293,\n",
       "        3.03030303,  3.13131313,  3.23232323,  3.33333333,  3.43434343,\n",
       "        3.53535354,  3.63636364,  3.73737374,  3.83838384,  3.93939394,\n",
       "        4.04040404,  4.14141414,  4.24242424,  4.34343434,  4.44444444,\n",
       "        4.54545455,  4.64646465,  4.74747475,  4.84848485,  4.94949495,\n",
       "        5.05050505,  5.15151515,  5.25252525,  5.35353535,  5.45454545,\n",
       "        5.55555556,  5.65656566,  5.75757576,  5.85858586,  5.95959596,\n",
       "        6.06060606,  6.16161616,  6.26262626,  6.36363636,  6.46464646,\n",
       "        6.56565657,  6.66666667,  6.76767677,  6.86868687,  6.96969697,\n",
       "        7.07070707,  7.17171717,  7.27272727,  7.37373737,  7.47474747,\n",
       "        7.57575758,  7.67676768,  7.77777778,  7.87878788,  7.97979798,\n",
       "        8.08080808,  8.18181818,  8.28282828,  8.38383838,  8.48484848,\n",
       "        8.58585859,  8.68686869,  8.78787879,  8.88888889,  8.98989899,\n",
       "        9.09090909,  9.19191919,  9.29292929,  9.39393939,  9.49494949,\n",
       "        9.5959596 ,  9.6969697 ,  9.7979798 ,  9.8989899 , 10.        ])"
      ]
     },
     "execution_count": 17,
     "metadata": {},
     "output_type": "execute_result"
    }
   ],
   "source": [
    "x"
   ]
  },
  {
   "cell_type": "code",
   "execution_count": 22,
   "metadata": {},
   "outputs": [
    {
     "data": {
      "text/plain": [
       "array([0.00000000e+00, 2.59684556e-01, 4.57995478e-04, 1.31325826e-01,\n",
       "       2.06733679e-01, 1.60349523e-01, 1.44769168e-04, 8.49878150e-01,\n",
       "       3.40620576e-04, 7.69726362e-01, 1.68457808e-02, 9.12741208e-03,\n",
       "       1.20041003e-03, 1.80679315e-01, 5.43330335e+00, 8.62340410e-03,\n",
       "       3.38229149e+00, 5.20161864e-01, 7.26896936e-02, 6.53295012e+00,\n",
       "       1.34821133e-01, 1.17315297e-02, 2.29714240e+00, 1.19666893e+00,\n",
       "       1.42645955e+00, 6.74564338e-01, 9.58940926e+00, 1.91146183e-02,\n",
       "       1.36799936e+00, 5.57516211e-02, 5.09831249e-02, 2.22988198e-02,\n",
       "       1.38027013e+01, 1.04259336e+00, 3.19172750e+00, 1.67566389e+00,\n",
       "       7.87459142e-02, 7.37343222e+00, 1.66057806e+00, 1.83730841e+01,\n",
       "       5.03717836e+00, 3.08252343e-01, 1.12206334e+00, 6.26756955e-01,\n",
       "       6.13877927e-01, 2.20673806e+00, 5.10592471e+00, 4.94977183e+00,\n",
       "       1.38062434e-03, 1.04932844e+01, 2.14519262e-01, 6.92527922e+00,\n",
       "       8.74850607e-01, 3.04614880e-01, 2.87838370e-01, 2.14064535e-03,\n",
       "       1.81391298e+01, 9.31864721e+00, 2.37932401e-01, 5.50986813e-04,\n",
       "       1.32096557e+00, 1.89777171e-01, 8.84691611e+00, 1.06537967e+01,\n",
       "       8.08792519e-01, 4.00652310e+00, 7.43126941e+00, 1.48945615e+00,\n",
       "       4.42192171e+00, 1.34425967e+00, 2.78459325e+01, 2.61930625e+00,\n",
       "       3.12482989e+00, 4.95613919e-03, 1.25342716e+00, 1.47851517e+00,\n",
       "       3.32451955e+00, 6.91841997e-01, 3.46782587e-02, 8.55860639e+00,\n",
       "       2.79829381e+01, 2.71143824e-01, 1.14503046e+00, 1.25786077e+00,\n",
       "       2.55270237e+01, 1.17498827e+01, 2.05119928e-01, 1.35743148e-01,\n",
       "       8.77373369e+00, 8.65592852e-01, 4.11381135e+01, 2.27847747e+00,\n",
       "       5.59913144e+01, 1.66673329e+00, 2.91587679e-03, 4.37791100e-01,\n",
       "       2.94913098e+00, 4.25798211e+00, 1.54383453e+01, 1.84377098e+00])"
      ]
     },
     "execution_count": 22,
     "metadata": {},
     "output_type": "execute_result"
    }
   ],
   "source": [
    "y"
   ]
  },
  {
   "cell_type": "code",
   "execution_count": 23,
   "metadata": {},
   "outputs": [
    {
     "data": {
      "text/plain": [
       "(array([ 1,  4,  7,  9, 14, 16, 19, 22, 24, 26, 28, 32, 34, 37, 39, 42, 46,\n",
       "        49, 51, 56, 60, 63, 66, 68, 70, 72, 76, 80, 84, 88, 90, 92, 98],\n",
       "       dtype=int64),\n",
       " {})"
      ]
     },
     "execution_count": 23,
     "metadata": {},
     "output_type": "execute_result"
    }
   ],
   "source": [
    "# find peaks\n",
    "peaks = find_peaks(y)\n",
    "peaks"
   ]
  },
  {
   "cell_type": "code",
   "execution_count": 49,
   "metadata": {},
   "outputs": [
    {
     "data": {
      "text/plain": [
       "(array([90, 92], dtype=int64),\n",
       " {'peak_heights': array([41.13811345, 55.99131438]),\n",
       "  'left_thresholds': array([40.2725206 , 53.71283691]),\n",
       "  'right_thresholds': array([38.85963598, 54.32458108])})"
      ]
     },
     "execution_count": 49,
     "metadata": {},
     "output_type": "execute_result"
    }
   ],
   "source": [
    "peaks = find_peaks(y,height=30,threshold=1,distance=1)\n",
    "peaks"
   ]
  },
  {
   "cell_type": "code",
   "execution_count": 50,
   "metadata": {},
   "outputs": [
    {
     "data": {
      "text/plain": [
       "array([41.13811345, 55.99131438])"
      ]
     },
     "execution_count": 50,
     "metadata": {},
     "output_type": "execute_result"
    }
   ],
   "source": [
    "# list of heights of eaks\n",
    "heights = peaks[1]['peak_heights']\n",
    "heights"
   ]
  },
  {
   "cell_type": "code",
   "execution_count": 51,
   "metadata": {},
   "outputs": [
    {
     "data": {
      "text/plain": [
       "array([90, 92], dtype=int64)"
      ]
     },
     "execution_count": 51,
     "metadata": {},
     "output_type": "execute_result"
    }
   ],
   "source": [
    "peaks[0]"
   ]
  },
  {
   "cell_type": "code",
   "execution_count": 52,
   "metadata": {},
   "outputs": [
    {
     "data": {
      "text/plain": [
       "array([9.09090909, 9.29292929])"
      ]
     },
     "execution_count": 52,
     "metadata": {},
     "output_type": "execute_result"
    }
   ],
   "source": [
    "# list of peak position\n",
    "peak_pos = x[peaks[0]]\n",
    "peak_pos"
   ]
  },
  {
   "cell_type": "code",
   "execution_count": 53,
   "metadata": {},
   "outputs": [
    {
     "data": {
      "text/plain": [
       "array([41.13811345, 55.99131438])"
      ]
     },
     "execution_count": 53,
     "metadata": {},
     "output_type": "execute_result"
    }
   ],
   "source": [
    "y[peaks[0]]"
   ]
  },
  {
   "cell_type": "code",
   "execution_count": 54,
   "metadata": {},
   "outputs": [
    {
     "data": {
      "text/plain": [
       "array([-0.00000000e+00, -2.59684556e-01, -4.57995478e-04, -1.31325826e-01,\n",
       "       -2.06733679e-01, -1.60349523e-01, -1.44769168e-04, -8.49878150e-01,\n",
       "       -3.40620576e-04, -7.69726362e-01, -1.68457808e-02, -9.12741208e-03,\n",
       "       -1.20041003e-03, -1.80679315e-01, -5.43330335e+00, -8.62340410e-03,\n",
       "       -3.38229149e+00, -5.20161864e-01, -7.26896936e-02, -6.53295012e+00,\n",
       "       -1.34821133e-01, -1.17315297e-02, -2.29714240e+00, -1.19666893e+00,\n",
       "       -1.42645955e+00, -6.74564338e-01, -9.58940926e+00, -1.91146183e-02,\n",
       "       -1.36799936e+00, -5.57516211e-02, -5.09831249e-02, -2.22988198e-02,\n",
       "       -1.38027013e+01, -1.04259336e+00, -3.19172750e+00, -1.67566389e+00,\n",
       "       -7.87459142e-02, -7.37343222e+00, -1.66057806e+00, -1.83730841e+01,\n",
       "       -5.03717836e+00, -3.08252343e-01, -1.12206334e+00, -6.26756955e-01,\n",
       "       -6.13877927e-01, -2.20673806e+00, -5.10592471e+00, -4.94977183e+00,\n",
       "       -1.38062434e-03, -1.04932844e+01, -2.14519262e-01, -6.92527922e+00,\n",
       "       -8.74850607e-01, -3.04614880e-01, -2.87838370e-01, -2.14064535e-03,\n",
       "       -1.81391298e+01, -9.31864721e+00, -2.37932401e-01, -5.50986813e-04,\n",
       "       -1.32096557e+00, -1.89777171e-01, -8.84691611e+00, -1.06537967e+01,\n",
       "       -8.08792519e-01, -4.00652310e+00, -7.43126941e+00, -1.48945615e+00,\n",
       "       -4.42192171e+00, -1.34425967e+00, -2.78459325e+01, -2.61930625e+00,\n",
       "       -3.12482989e+00, -4.95613919e-03, -1.25342716e+00, -1.47851517e+00,\n",
       "       -3.32451955e+00, -6.91841997e-01, -3.46782587e-02, -8.55860639e+00,\n",
       "       -2.79829381e+01, -2.71143824e-01, -1.14503046e+00, -1.25786077e+00,\n",
       "       -2.55270237e+01, -1.17498827e+01, -2.05119928e-01, -1.35743148e-01,\n",
       "       -8.77373369e+00, -8.65592852e-01, -4.11381135e+01, -2.27847747e+00,\n",
       "       -5.59913144e+01, -1.66673329e+00, -2.91587679e-03, -4.37791100e-01,\n",
       "       -2.94913098e+00, -4.25798211e+00, -1.54383453e+01, -1.84377098e+00])"
      ]
     },
     "execution_count": 54,
     "metadata": {},
     "output_type": "execute_result"
    }
   ],
   "source": [
    "# find the minima\n",
    "y2 = y* -1\n",
    "y2"
   ]
  },
  {
   "cell_type": "code",
   "execution_count": 55,
   "metadata": {},
   "outputs": [
    {
     "data": {
      "text/plain": [
       "(array([ 2,  6,  8, 12, 15, 18, 21, 23, 25, 27, 31, 33, 36, 38, 41, 44, 48,\n",
       "        50, 55, 59, 61, 64, 67, 69, 71, 73, 78, 81, 87, 89, 91, 94],\n",
       "       dtype=int64),\n",
       " {})"
      ]
     },
     "execution_count": 55,
     "metadata": {},
     "output_type": "execute_result"
    }
   ],
   "source": [
    "minima = find_peaks(y2)\n",
    "minima"
   ]
  },
  {
   "cell_type": "code",
   "execution_count": 56,
   "metadata": {},
   "outputs": [
    {
     "data": {
      "text/plain": [
       "array([0.2020202 , 0.60606061, 0.80808081, 1.21212121, 1.51515152,\n",
       "       1.81818182, 2.12121212, 2.32323232, 2.52525253, 2.72727273,\n",
       "       3.13131313, 3.33333333, 3.63636364, 3.83838384, 4.14141414,\n",
       "       4.44444444, 4.84848485, 5.05050505, 5.55555556, 5.95959596,\n",
       "       6.16161616, 6.46464646, 6.76767677, 6.96969697, 7.17171717,\n",
       "       7.37373737, 7.87878788, 8.18181818, 8.78787879, 8.98989899,\n",
       "       9.19191919, 9.49494949])"
      ]
     },
     "execution_count": 56,
     "metadata": {},
     "output_type": "execute_result"
    }
   ],
   "source": [
    "min_pos = x[minima[0]]\n",
    "min_pos"
   ]
  },
  {
   "cell_type": "code",
   "execution_count": 57,
   "metadata": {},
   "outputs": [
    {
     "data": {
      "text/plain": [
       "array([-4.57995478e-04, -1.44769168e-04, -3.40620576e-04, -1.20041003e-03,\n",
       "       -8.62340410e-03, -7.26896936e-02, -1.17315297e-02, -1.19666893e+00,\n",
       "       -6.74564338e-01, -1.91146183e-02, -2.22988198e-02, -1.04259336e+00,\n",
       "       -7.87459142e-02, -1.66057806e+00, -3.08252343e-01, -6.13877927e-01,\n",
       "       -1.38062434e-03, -2.14519262e-01, -2.14064535e-03, -5.50986813e-04,\n",
       "       -1.89777171e-01, -8.08792519e-01, -1.48945615e+00, -1.34425967e+00,\n",
       "       -2.61930625e+00, -4.95613919e-03, -3.46782587e-02, -2.71143824e-01,\n",
       "       -1.35743148e-01, -8.65592852e-01, -2.27847747e+00, -2.91587679e-03])"
      ]
     },
     "execution_count": 57,
     "metadata": {},
     "output_type": "execute_result"
    }
   ],
   "source": [
    "min_height = y2[minima[0]]\n",
    "min_height"
   ]
  },
  {
   "cell_type": "code",
   "execution_count": 58,
   "metadata": {},
   "outputs": [
    {
     "data": {
      "text/plain": [
       "array([4.57995478e-04, 1.44769168e-04, 3.40620576e-04, 1.20041003e-03,\n",
       "       8.62340410e-03, 7.26896936e-02, 1.17315297e-02, 1.19666893e+00,\n",
       "       6.74564338e-01, 1.91146183e-02, 2.22988198e-02, 1.04259336e+00,\n",
       "       7.87459142e-02, 1.66057806e+00, 3.08252343e-01, 6.13877927e-01,\n",
       "       1.38062434e-03, 2.14519262e-01, 2.14064535e-03, 5.50986813e-04,\n",
       "       1.89777171e-01, 8.08792519e-01, 1.48945615e+00, 1.34425967e+00,\n",
       "       2.61930625e+00, 4.95613919e-03, 3.46782587e-02, 2.71143824e-01,\n",
       "       1.35743148e-01, 8.65592852e-01, 2.27847747e+00, 2.91587679e-03])"
      ]
     },
     "execution_count": 58,
     "metadata": {},
     "output_type": "execute_result"
    }
   ],
   "source": [
    "real_min_height = min_height*-1\n",
    "real_min_height"
   ]
  },
  {
   "cell_type": "code",
   "execution_count": 59,
   "metadata": {},
   "outputs": [
    {
     "data": {
      "image/png": "[encoded data removed]",
      "text/plain": [
       "<Figure size 1080x648 with 1 Axes>"
      ]
     },
     "metadata": {
      "needs_background": "light"
     },
     "output_type": "display_data"
    }
   ],
   "source": [
    "fig = plt.figure(figsize=(15,9))\n",
    "ax = fig.subplots()\n",
    "ax.plot(x,y)\n",
    "ax.scatter(peak_pos, heights, color='r', s = 15,marker = 'D', label='Maxima' )\n",
    "ax.scatter(min_pos, real_min_height, color='b', s = 15,marker = 'X', label='Minima' )\n",
    "ax.legend()\n",
    "ax.grid()\n",
    "plt.show()"
   ]
  }
 ],
 "metadata": {
  "kernelspec": {
   "display_name": "Python 3 (ipykernel)",
   "language": "python",
   "name": "python3"
  },
  "language_info": {
   "codemirror_mode": {
    "name": "ipython",
    "version": 3
   },
   "file_extension": ".py",
   "mimetype": "text/x-python",
   "name": "python",
   "nbconvert_exporter": "python",
   "pygments_lexer": "ipython3",
   "version": "3.7.11"
  }
 },
 "nbformat": 4,
 "nbformat_minor": 2
}
